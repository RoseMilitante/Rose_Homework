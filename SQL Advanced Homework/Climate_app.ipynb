{
 "cells": [
  {
   "cell_type": "code",
   "execution_count": 1,
   "metadata": {},
   "outputs": [],
   "source": [
    "import numpy as np\n",
    "import sqlalchemy\n",
    "import pandas as pd\n",
    "import datetime as dt\n",
    "from sqlalchemy.ext.automap import automap_base\n",
    "from sqlalchemy.orm import Session\n",
    "from sqlalchemy import create_engine, func\n",
    "from flask import Flask, jsonify"
   ]
  },
  {
   "cell_type": "code",
   "execution_count": 2,
   "metadata": {},
   "outputs": [],
   "source": [
    "# Database Setup\n",
    "engine = create_engine(\"sqlite:///Resources/hawaii.sqlite\")\n",
    "\n",
    "# reflect an existing database into a new model\n",
    "Base = automap_base()\n",
    "# reflect the tables\n",
    "Base.prepare(engine, reflect=True)\n",
    "\n",
    "# Save references to each table\n",
    "Measurement = Base.classes.measurement\n",
    "Station = Base.classes.station\n",
    "\n",
    "# Create our session (link) from Python to the DB\n",
    "session = Session(engine)"
   ]
  },
  {
   "cell_type": "code",
   "execution_count": 3,
   "metadata": {},
   "outputs": [],
   "source": [
    "# Flask Setup\n",
    "app = Flask(__name__)\n",
    "\n",
    "# Flask Routes\n",
    "@app.route(\"/\")\n",
    "def welcome():\n",
    "    \"\"\"\"List all available api routes.\"\"\"\n",
    "    return(\n",
    "    f\"Available Routes:<br/>\"\n",
    "    f\"/api/v1.0/precipitation:<br/>\"\n",
    "    f\"/api/v1.0/stations:<br/>\"\n",
    "    f\"/api/v1.0/tobs:<br/>\"\n",
    "    f\"/api/v1.0/<start>:<br/>\"\n",
    "    f\"/api/v1.0/<start>/<end>:<br/>\"\n",
    "    )"
   ]
  },
  {
   "cell_type": "code",
   "execution_count": 4,
   "metadata": {},
   "outputs": [],
   "source": [
    "# Convert the query results to a Dictionary\n",
    "# using `date` as the key and `prcp` as the value.\n",
    "# return the JSON representation of your dictionary\n",
    "@app.route(\"/api/v1.0/precipitation\")\n",
    "def precipitation():\n",
    "\n",
    "    print(\"Request received for Precipitation\")\n",
    "    \n",
    "    results = session.query(Measurement).filter(Measurement.date >= '2016-08-23').all()\n",
    "    precipitation_info = []\n",
    "    \n",
    "    for data in results:\n",
    "        precipitation_dict = {}\n",
    "        precipitation_dict[data.date] = data.prcp\n",
    "        all_precipitation.append(precipitation_dict)\n",
    "\n",
    "    return jsonify(all_precipitation)"
   ]
  },
  {
   "cell_type": "code",
   "execution_count": 5,
   "metadata": {},
   "outputs": [],
   "source": [
    "# Return a list of stations from the dataset\n",
    "@app.route(\"/api/v1.0/stations\")\n",
    "def station():\n",
    "\n",
    "    print(\"Request received for Stations\")\n",
    "    \n",
    "    results = session.query(Station.station).all()\n",
    "    session.close()\n",
    "    station_list = list(np.ravel(results))\n",
    "    \n",
    "    return jsonify(station_list)"
   ]
  },
  {
   "cell_type": "code",
   "execution_count": 6,
   "metadata": {},
   "outputs": [],
   "source": [
    "  # query for the dates and temperature observations from \n",
    "  # a year from the last data point.\n",
    "  # Return a JSON list of Temperature Observations (tobs) \n",
    "  #  for the previous year.\n",
    "\n",
    "@app.route(\"/api/v1.0/tobs\")\n",
    "def tobs():\n",
    "\n",
    "    print(\"Request received for Temperature Observations\")\n",
    "    \n",
    "    results = session.query(Measurement.tobs).filter(Measurement.date >= '2016-08-23').all()\n",
    "    session.close()\n",
    "    tobs_list = list(np.ravel(results))\n",
    "    \n",
    "    return jsonify(tobs_list)"
   ]
  },
  {
   "cell_type": "code",
   "execution_count": 7,
   "metadata": {},
   "outputs": [],
   "source": [
    "# Return a JSON list of the minimum temperature, the average temperature, \n",
    "# and the max temperature for a given start date\n",
    "# When given the start only, calculate `TMIN`, `TAVG`, and `TMAX` \n",
    "# for all dates greater than and equal to the start date.\n",
    "\n",
    "@app.route(\"/api/v1.0/<start>\")\n",
    "def startdate_tobs(start):\n",
    "\n",
    "    print(\"Request received for Temperature Observations for all dates greater than and equal to your start date\")\n",
    "    \n",
    "    results = session.query(func.min(Measurement.tobs), func.avg(Measurement.tobs), func.max(Measurement.tobs)).\\\n",
    "        filter(Measurement.date >= start).all()\n",
    "       \n",
    "    return jsonify(results)"
   ]
  },
  {
   "cell_type": "code",
   "execution_count": 8,
   "metadata": {},
   "outputs": [],
   "source": [
    "# Return a JSON list of the minimum temperature, the average temperature, \n",
    "# and the max temperature for the range within a given start date and end date\n",
    "# When given the start and the end date, calculate the `TMIN`, `TAVG`, and `TMAX` \n",
    "# for dates between the start and end date inclusive.\n",
    "\n",
    "@app.route(\"/api/v1.0/<start><end>\")\n",
    "def start_end_tobs(start, end):\n",
    "\n",
    "    print(\"Request received for Temperature Observations for the range within your start and end dates\")\n",
    "    \n",
    "    results = session.query(func.min(Measurement.tobs), func.avg(Measurement.tobs), func.max(Measurement.tobs)).\\\n",
    "        filter(Measurement.date >= start).filter(Measurement.date <= end).all()\n",
    "       \n",
    "    return jsonify(results)"
   ]
  },
  {
   "cell_type": "code",
   "execution_count": 9,
   "metadata": {},
   "outputs": [
    {
     "name": "stdout",
     "output_type": "stream",
     "text": [
      " * Serving Flask app \"__main__\" (lazy loading)\n",
      " * Environment: production\n",
      "   WARNING: This is a development server. Do not use it in a production deployment.\n",
      "   Use a production WSGI server instead.\n",
      " * Debug mode: on\n"
     ]
    },
    {
     "name": "stderr",
     "output_type": "stream",
     "text": [
      " * Restarting with stat\n"
     ]
    },
    {
     "ename": "SystemExit",
     "evalue": "1",
     "output_type": "error",
     "traceback": [
      "An exception has occurred, use %tb to see the full traceback.\n",
      "\u001b[1;31mSystemExit\u001b[0m\u001b[1;31m:\u001b[0m 1\n"
     ]
    },
    {
     "name": "stderr",
     "output_type": "stream",
     "text": [
      "C:\\Users\\Rose Militante\\Anaconda3\\lib\\site-packages\\IPython\\core\\interactiveshell.py:3333: UserWarning: To exit: use 'exit', 'quit', or Ctrl-D.\n",
      "  warn(\"To exit: use 'exit', 'quit', or Ctrl-D.\", stacklevel=1)\n"
     ]
    }
   ],
   "source": [
    "if __name__ == \"__main__\":\n",
    "    app.run(debug=True)"
   ]
  },
  {
   "cell_type": "code",
   "execution_count": null,
   "metadata": {},
   "outputs": [],
   "source": []
  },
  {
   "cell_type": "code",
   "execution_count": null,
   "metadata": {},
   "outputs": [],
   "source": []
  }
 ],
 "metadata": {
  "kernelspec": {
   "display_name": "Python 3",
   "language": "python",
   "name": "python3"
  },
  "language_info": {
   "codemirror_mode": {
    "name": "ipython",
    "version": 3
   },
   "file_extension": ".py",
   "mimetype": "text/x-python",
   "name": "python",
   "nbconvert_exporter": "python",
   "pygments_lexer": "ipython3",
   "version": "3.7.3"
  }
 },
 "nbformat": 4,
 "nbformat_minor": 2
}
